{
 "cells": [
  {
   "cell_type": "markdown",
   "id": "eef5bac0-9a77-43d6-bf3a-6c3a8f13ffc1",
   "metadata": {},
   "source": [
    "Guido van Rossum"
   ]
  },
  {
   "cell_type": "markdown",
   "id": "6ce21609-1e46-4d25-894c-1da383e10a39",
   "metadata": {},
   "source": [
    "Object oriented programming"
   ]
  },
  {
   "cell_type": "markdown",
   "id": "9176fb56-0213-467a-8ffe-a4fe310bee98",
   "metadata": {},
   "source": [
    "Yes, Python is a case-sensitive language when it comes to identifiers. "
   ]
  },
  {
   "cell_type": "markdown",
   "id": "0b15cc9a-ca3e-461c-8b61-e1cfc11c9238",
   "metadata": {},
   "source": [
    ".py"
   ]
  },
  {
   "cell_type": "markdown",
   "id": "1064d58b-fd41-442d-bf5f-20467fcf26b4",
   "metadata": {},
   "source": [
    "Python code is an interpreted language"
   ]
  },
  {
   "cell_type": "code",
   "execution_count": 1,
   "id": "97df17e6-0348-42a1-8334-6911870f6d92",
   "metadata": {},
   "outputs": [
    {
     "name": "stdout",
     "output_type": "stream",
     "text": [
      "Correct Name!!\n",
      "HI\n"
     ]
    }
   ],
   "source": [
    "name = 'Alex'\n",
    "    \n",
    "if name == 'Alex':\n",
    "    print('Correct Name!!')\n",
    "else:\n",
    "\tprint('InCorrect Name:(')\n",
    "print('HI')"
   ]
  },
  {
   "cell_type": "markdown",
   "id": "d9c5e542-bc21-449c-a7f3-8caa64081055",
   "metadata": {},
   "source": [
    " \"#\" character is used to give a single-line comment"
   ]
  },
  {
   "cell_type": "code",
   "execution_count": 2,
   "id": "51f65cdf-5a2c-4dfc-bd9a-82a33d505cf9",
   "metadata": {},
   "outputs": [
    {
     "name": "stdout",
     "output_type": "stream",
     "text": [
      "3.10.8 | packaged by conda-forge | (main, Nov 22 2022, 08:26:04) [GCC 10.4.0]\n"
     ]
    }
   ],
   "source": [
    "import sys\n",
    "print(sys.version)"
   ]
  },
  {
   "cell_type": "markdown",
   "id": "ee8f9968-2fdb-477d-a213-909652da8bcc",
   "metadata": {},
   "source": [
    "lambda"
   ]
  },
  {
   "cell_type": "markdown",
   "id": "f51aae73-44ef-4831-aded-22cae538cc7c",
   "metadata": {},
   "source": [
    "Python pip is the package manager for Python packages"
   ]
  },
  {
   "cell_type": "markdown",
   "id": "f4f856db-f314-48d7-91e9-5b4cd957d1d4",
   "metadata": {},
   "source": [
    "print()\n",
    "input()\n",
    "range()"
   ]
  },
  {
   "cell_type": "markdown",
   "id": "3537ab36-9edc-4eef-a9b1-ad6db95da152",
   "metadata": {},
   "source": [
    "the maximum length of an identifier is not limited"
   ]
  },
  {
   "cell_type": "raw",
   "id": "76230d36-8c33-4a77-b661-5bae42083bb3",
   "metadata": {},
   "source": [
    "extensive support libraries\n",
    "user friendly "
   ]
  },
  {
   "cell_type": "markdown",
   "id": "ec62084c-2a9d-415a-9441-52d2f5dd1967",
   "metadata": {},
   "source": [
    "Memory management in Python is handled by the Python Memory Manager (PMM) through a process called automatic memory management or garbage collection."
   ]
  },
  {
   "cell_type": "markdown",
   "id": "86b9b704-da95-4d14-b312-7cdb3bbb7a04",
   "metadata": {},
   "source": [
    "Here are the steps to install Python in Windows and set the path variable:\n",
    "\n",
    "Download Python: Go to the official Python website (https://www.python.org/downloads/windows/) and download the latest version of Python for Windows. Choose the appropriate version based on your operating system (32-bit or 64-bit) and click on the download link.\n",
    "\n",
    "Run the installer: Once the download is complete, run the installer and follow the on-screen instructions to install Python on your computer. Make sure to select the option to add Python to the system PATH during the installation process.\n",
    "\n",
    "Verify the installation: Open the Command Prompt by pressing Windows key + R, type cmd in the Run dialog box and press Enter. Then, type python in the command prompt and press Enter. If Python is installed correctly, you should see the Python version information.\n",
    "\n",
    "Set the path variable: If you get an error message saying that 'python' is notrecognized as an internal or external command, operable program or batch file, you need to set the path variable. To set the path variable, follow these steps:\n",
    "\n",
    "Open the Control Panel and select System and Security.\n",
    "Select System and click on Advanced System Settings.\n",
    "Click on the Environment Variables button.\n",
    "Under System Variables, scroll down and find the 'Path' variable and click on Edit.\n",
    "In the Edit environment variable window, click on New and add the path to the Python executable file. The path should be something like C:\\Python39\\ or wherever you installed Python on your system.\n",
    "Click on OK to save the changes.\n",
    "Verify the path variable: Open a new Command Prompt window and type python again. If Python is installed correctly and the path variable is set correctly, you should be able to run Python commands from the command prompt."
   ]
  },
  {
   "cell_type": "markdown",
   "id": "76281c93-efa3-44d3-b1b6-4a3c7bebdac4",
   "metadata": {},
   "source": [
    "yes,indentation is a fundamental part of the python"
   ]
  }
 ],
 "metadata": {
  "kernelspec": {
   "display_name": "Python 3 (ipykernel)",
   "language": "python",
   "name": "python3"
  },
  "language_info": {
   "codemirror_mode": {
    "name": "ipython",
    "version": 3
   },
   "file_extension": ".py",
   "mimetype": "text/x-python",
   "name": "python",
   "nbconvert_exporter": "python",
   "pygments_lexer": "ipython3",
   "version": "3.10.8"
  }
 },
 "nbformat": 4,
 "nbformat_minor": 5
}
